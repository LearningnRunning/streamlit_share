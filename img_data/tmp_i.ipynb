{
 "cells": [
  {
   "cell_type": "code",
   "execution_count": 4,
   "metadata": {},
   "outputs": [
    {
     "name": "stdout",
     "output_type": "stream",
     "text": [
      "/Users/seongrok.kim/Github/streamlit_share/img_data/中条あやみ_data/christmas_snap_retouched/4.jpg\n",
      "/Users/seongrok.kim/Github/streamlit_share/img_data/中条あやみ_data/christmas_snap_retouched/24.jpg\n",
      "\n",
      "/Users/seongrok.kim/Github/streamlit_share/img_data/中条あやみ_data/christmas_snap_retouched/5.jpg\n",
      "/Users/seongrok.kim/Github/streamlit_share/img_data/中条あやみ_data/christmas_snap_retouched/25.jpg\n",
      "\n",
      "/Users/seongrok.kim/Github/streamlit_share/img_data/中条あやみ_data/christmas_snap_retouched/6.jpg\n",
      "/Users/seongrok.kim/Github/streamlit_share/img_data/中条あやみ_data/christmas_snap_retouched/26.jpg\n",
      "\n",
      "/Users/seongrok.kim/Github/streamlit_share/img_data/中条あやみ_data/christmas_snap_retouched/2.jpg\n",
      "/Users/seongrok.kim/Github/streamlit_share/img_data/中条あやみ_data/christmas_snap_retouched/22.jpg\n",
      "\n",
      "/Users/seongrok.kim/Github/streamlit_share/img_data/中条あやみ_data/christmas_snap_retouched/3.jpg\n",
      "/Users/seongrok.kim/Github/streamlit_share/img_data/中条あやみ_data/christmas_snap_retouched/23.jpg\n",
      "\n",
      "/Users/seongrok.kim/Github/streamlit_share/img_data/中条あやみ_data/christmas_snap_retouched/1.jpg\n",
      "/Users/seongrok.kim/Github/streamlit_share/img_data/中条あやみ_data/christmas_snap_retouched/21.jpg\n",
      "\n",
      "/Users/seongrok.kim/Github/streamlit_share/img_data/中条あやみ_data/christmas_snap_retouched/0.jpg\n",
      "/Users/seongrok.kim/Github/streamlit_share/img_data/中条あやみ_data/christmas_snap_retouched/20.jpg\n",
      "\n",
      "Files renamed successfully.\n"
     ]
    }
   ],
   "source": [
    "import os\n",
    "\n",
    "# Specify the path to the directory containing the image files\n",
    "directory_path = \"/Users/seongrok.kim/Github/streamlit_share/img_data/ai_model_D_test_result/christmas_snap_retouched\"\n",
    "file_lst = os.listdir(directory_path)\n",
    "# Iterate over the files in the directory\n",
    "for filename in file_lst:\n",
    "    # Check if the file is an image file and within the specified range\n",
    "    if filename not in []:\n",
    "        if filename.endswith(\".jpg\") and filename.replace('.jpg', '') in [\"0\", \"1\", \"2\", \"3\", \"4\", \"5\", \"6\"]:\n",
    "            # Extract the number from the file name\n",
    "            number = int(filename.split('.')[0])\n",
    "            \n",
    "            # Add 20 to the number to get the new file name\n",
    "            new_number = number + 20\n",
    "            \n",
    "            # Create the new file name with the '2' prefix\n",
    "            new_filename = f\"{new_number}.jpg\"\n",
    "            \n",
    "            # Build the full paths for the old and new files\n",
    "            old_filepath = os.path.join(directory_path, filename)\n",
    "            new_filepath = os.path.join(directory_path, new_filename)\n",
    "            print(old_filepath)\n",
    "            print(new_filepath)\n",
    "            print()\n",
    "            # Rename the file\n",
    "            os.rename(old_filepath, new_filepath)\n",
    "\n",
    "print(\"Files renamed successfully.\")\n",
    "\n",
    "\n",
    "import re\n",
    "def natural_sort_key(s):\n",
    "    return [int(text) if text.isdigit() else text.lower() for text in re.split('([0-9]+)', s)]\n",
    "\n",
    "file_lst = os.listdir(directory_path)\n",
    "file_lst = sorted(file_lst, key=natural_sort_key)\n",
    "for idx, filename in enumerate(file_lst):\n",
    "\n",
    "        # Create the new file name with the '2' prefix\n",
    "        new_filename = f\"{idx}.jpg\"\n",
    "\n",
    "        # Build the full paths for the old and new files\n",
    "        old_filepath = os.path.join(directory_path, filename)\n",
    "        new_filepath = os.path.join(directory_path, new_filename)\n",
    "        print(old_filepath)\n",
    "        print(new_filepath)\n",
    "        print()\n",
    "        # Rename the file\n",
    "        os.rename(old_filepath, new_filepath)\n"
   ]
  },
  {
   "cell_type": "code",
   "execution_count": 10,
   "metadata": {},
   "outputs": [],
   "source": [
    "import re\n",
    "def natural_sort_key(s):\n",
    "    return [int(text) if text.isdigit() else text.lower() for text in re.split('([0-9]+)', s)]"
   ]
  },
  {
   "cell_type": "code",
   "execution_count": 14,
   "metadata": {},
   "outputs": [],
   "source": [
    "import re\n",
    "def natural_sort_key(s):\n",
    "    return [int(text) if text.isdigit() else text.lower() for text in re.split('([0-9]+)', s)]\n",
    "\n",
    "file_lst = sorted(file_lst, key=natural_sort_key)"
   ]
  },
  {
   "cell_type": "code",
   "execution_count": 17,
   "metadata": {},
   "outputs": [
    {
     "name": "stdout",
     "output_type": "stream",
     "text": [
      "/Users/seongrok.kim/Github/streamlit_share/img_data/中条あやみ_data/christmas_snap_retouched/7.jpg\n",
      "/Users/seongrok.kim/Github/streamlit_share/img_data/中条あやみ_data/christmas_snap_retouched/0.jpg\n",
      "\n",
      "/Users/seongrok.kim/Github/streamlit_share/img_data/中条あやみ_data/christmas_snap_retouched/8.jpg\n",
      "/Users/seongrok.kim/Github/streamlit_share/img_data/中条あやみ_data/christmas_snap_retouched/1.jpg\n",
      "\n",
      "/Users/seongrok.kim/Github/streamlit_share/img_data/中条あやみ_data/christmas_snap_retouched/9.jpg\n",
      "/Users/seongrok.kim/Github/streamlit_share/img_data/中条あやみ_data/christmas_snap_retouched/2.jpg\n",
      "\n",
      "/Users/seongrok.kim/Github/streamlit_share/img_data/中条あやみ_data/christmas_snap_retouched/10.jpg\n",
      "/Users/seongrok.kim/Github/streamlit_share/img_data/中条あやみ_data/christmas_snap_retouched/3.jpg\n",
      "\n",
      "/Users/seongrok.kim/Github/streamlit_share/img_data/中条あやみ_data/christmas_snap_retouched/11.jpg\n",
      "/Users/seongrok.kim/Github/streamlit_share/img_data/中条あやみ_data/christmas_snap_retouched/4.jpg\n",
      "\n",
      "/Users/seongrok.kim/Github/streamlit_share/img_data/中条あやみ_data/christmas_snap_retouched/12.jpg\n",
      "/Users/seongrok.kim/Github/streamlit_share/img_data/中条あやみ_data/christmas_snap_retouched/5.jpg\n",
      "\n",
      "/Users/seongrok.kim/Github/streamlit_share/img_data/中条あやみ_data/christmas_snap_retouched/13.jpg\n",
      "/Users/seongrok.kim/Github/streamlit_share/img_data/中条あやみ_data/christmas_snap_retouched/6.jpg\n",
      "\n",
      "/Users/seongrok.kim/Github/streamlit_share/img_data/中条あやみ_data/christmas_snap_retouched/14.jpg\n",
      "/Users/seongrok.kim/Github/streamlit_share/img_data/中条あやみ_data/christmas_snap_retouched/7.jpg\n",
      "\n",
      "/Users/seongrok.kim/Github/streamlit_share/img_data/中条あやみ_data/christmas_snap_retouched/20.jpg\n",
      "/Users/seongrok.kim/Github/streamlit_share/img_data/中条あやみ_data/christmas_snap_retouched/8.jpg\n",
      "\n",
      "/Users/seongrok.kim/Github/streamlit_share/img_data/中条あやみ_data/christmas_snap_retouched/21.jpg\n",
      "/Users/seongrok.kim/Github/streamlit_share/img_data/中条あやみ_data/christmas_snap_retouched/9.jpg\n",
      "\n",
      "/Users/seongrok.kim/Github/streamlit_share/img_data/中条あやみ_data/christmas_snap_retouched/22.jpg\n",
      "/Users/seongrok.kim/Github/streamlit_share/img_data/中条あやみ_data/christmas_snap_retouched/10.jpg\n",
      "\n",
      "/Users/seongrok.kim/Github/streamlit_share/img_data/中条あやみ_data/christmas_snap_retouched/23.jpg\n",
      "/Users/seongrok.kim/Github/streamlit_share/img_data/中条あやみ_data/christmas_snap_retouched/11.jpg\n",
      "\n",
      "/Users/seongrok.kim/Github/streamlit_share/img_data/中条あやみ_data/christmas_snap_retouched/24.jpg\n",
      "/Users/seongrok.kim/Github/streamlit_share/img_data/中条あやみ_data/christmas_snap_retouched/12.jpg\n",
      "\n",
      "/Users/seongrok.kim/Github/streamlit_share/img_data/中条あやみ_data/christmas_snap_retouched/25.jpg\n",
      "/Users/seongrok.kim/Github/streamlit_share/img_data/中条あやみ_data/christmas_snap_retouched/13.jpg\n",
      "\n",
      "/Users/seongrok.kim/Github/streamlit_share/img_data/中条あやみ_data/christmas_snap_retouched/26.jpg\n",
      "/Users/seongrok.kim/Github/streamlit_share/img_data/中条あやみ_data/christmas_snap_retouched/14.jpg\n",
      "\n"
     ]
    }
   ],
   "source": [
    "file_lst\n",
    "for idx, filename in enumerate(file_lst):\n",
    "\n",
    "        # Create the new file name with the '2' prefix\n",
    "        new_filename = f\"{idx}.jpg\"\n",
    "\n",
    "        # Build the full paths for the old and new files\n",
    "        old_filepath = os.path.join(directory_path, filename)\n",
    "        new_filepath = os.path.join(directory_path, new_filename)\n",
    "        print(old_filepath)\n",
    "        print(new_filepath)\n",
    "        print()\n",
    "        # Rename the file\n",
    "        os.rename(old_filepath, new_filepath)"
   ]
  }
 ],
 "metadata": {
  "kernelspec": {
   "display_name": "base",
   "language": "python",
   "name": "python3"
  },
  "language_info": {
   "codemirror_mode": {
    "name": "ipython",
    "version": 3
   },
   "file_extension": ".py",
   "mimetype": "text/x-python",
   "name": "python",
   "nbconvert_exporter": "python",
   "pygments_lexer": "ipython3",
   "version": "3.10.6"
  },
  "orig_nbformat": 4,
  "vscode": {
   "interpreter": {
    "hash": "2568b31422f911d240befaa5e46dd782c4cc23ae238e6e2196b9786beeefb2a9"
   }
  }
 },
 "nbformat": 4,
 "nbformat_minor": 2
}
